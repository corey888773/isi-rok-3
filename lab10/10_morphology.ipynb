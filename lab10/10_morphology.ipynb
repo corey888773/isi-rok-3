{
  "cells": [
    {
      "cell_type": "markdown",
      "metadata": {
        "id": "NnDX1AhkKHGr"
      },
      "source": [
        "# Przekształcenia morfologiczne\n",
        "\n",
        "## Cel:\n",
        "- zapoznanie z podstawowymi przekształceniami morfologicznymi – erozją, dylatacją, otwarciem, zamknięciem, transformacją trafi, nie trafi,\n",
        "- zapoznanie ze złożonymi operacjami morfologicznymi wykorzystującymi rekonstrukcję morfologiczną,\n",
        "- zapoznanie z operacjami morfologicznym dla obrazów w odcieniach szarości – erozją, dylatacją, otwarciem, zamknięciem, filtrami top-hat i bottom-hat,\n",
        "- zapoznanie z wykorzystaniem złożonych operacji morfologicznych przy rozwiązywaniu konkretnego problemu,\n",
        "- zadanie domowe: wykorzystanie morfologii do implementacji ,,gry w życie''."
      ]
    },
    {
      "cell_type": "markdown",
      "metadata": {
        "id": "CbPVOPm8KHGx"
      },
      "source": [
        "## Przypomnienie teorii\n",
        "\n",
        "### Element strukturalny\n",
        "\n",
        "Element strukturalny obrazu jest to pewien wycinek obrazu (przy dyskretnej reprezentacji obrazu – pewien podzbiór jego elementów).\n",
        "Najczęściej stosowanym elementem strukturalnym jest kwadratowa maska o rozmiarze 3×3 lub 5×5. Niekiedy pożądane są maski o innym kształcie, np. zbliżonym do elipsy.\n",
        "\n",
        "### Erozja\n",
        "\n",
        "Erozja (ang. _erosion_) jest podstawowym przekształceniem morfologicznym.\n",
        "Zakładamy, że obraz wyjściowy zawiera pewien obszar (figurę) X, wyróżniający się pewną charakterystyczną cechą (np. odróżniającą się od tła jasnością).\n",
        "Figura X po wykonaniu operacji erozji to zbiór punktów centralnych wszystkich elementów strukturalnych, które w całości mieszczą się we wnętrzu obszaru X.\n",
        "Miarą stopnia erozji jest wielkość elementu strukturalnego.\n",
        "\n",
        "**Erozję** można traktować jako **filtr minimalny**, tj. z danego otoczenia piksela (określanego przez maskę) do obrazu wynikowego wybierana jest wartość minimalna.\n",
        "\n",
        "### Dylatacja\n",
        "\n",
        "Dylatacja (ang. _dilation_): Zakładamy, że obraz wejściowy zawiera obszar X wyróżniający się pewną charakterystyczną cechą (np. jasnością). Figura przekształcona przez dylatacje to zbiór punktów centralnych wszystkich elementów strukturalnych, których którykolwiek punkt mieści sie we wnętrzu obszaru X. Miarą  dylatacji jest wielkość elementu strukturalnego.\n",
        "\n",
        "**Dylatację** można traktować jako **filtr maksymalny**, tj. z danego otoczenia piksela (określanego\n",
        "przez maskę) do obrazu wynikowego wybierana jest wartość maksymalna.\n",
        "\n",
        "### Otwarcie i zamknięcie\n",
        "\n",
        "Otwarcie (ang. _opening_) polega na wykonaniu najpierw operacji erozji, a następnie dylatacji.\n",
        "\n",
        "> Otwarcie = erozja + dylatacja\n",
        "\n",
        "Zamkniecie (ang. _closing_) polega na wykonaniu najpierw operacji dylatacji, a następnie erozji.\n",
        "\n",
        "> Zamkniecie = dylatacja + erozja\n",
        "\n",
        "### Obrazy w odcieniu szarości\n",
        "\n",
        "Obrazy w odcieniu szarości – detekcja dolin i szczytów (ang. _top-hat_, _bottom-hat_):\n",
        "\n",
        "Aby wyodrębnić z obrazu lokalne ekstrema można wykorzystać zdefiniowane wcześniej przekształcenia: otwarcie i zamkniecie.\n",
        "W celu wyszukania lokalnych maksimów (szczytów) należy od wyniku otwarcia danego obrazu odjąć obraz wyjściowy.\n",
        "Analogicznie, aby wyodrębnić lokalne minima obrazu, należy dokonać podobnej operacji, z tym że pierwszą operacją bedzie zamknięcie.\n",
        "Uwaga! Należy zwrócić uwagę, że poniższe metody służą do detekcji (pokreślenia) tylko lokalnych ekstremów!"
      ]
    },
    {
      "cell_type": "markdown",
      "metadata": {
        "id": "_mWYIIJBKHGz"
      },
      "source": [
        "## Podstawowe operacje morfologiczne: erozja, dylatacja, otwarcie, zamknięcie, trafi nie trafi\n",
        "\n",
        "1. Wczytaj obraz ertka.bmp\n",
        "2. Wykonaj operację erozji `cv2.erode`. Parametrami funkcji są obraz oraz element strukturalny. Element można stworzyć samodzielnie jako tablicę składającą się z 0 i 1 `np.ones((3,3))` lub posłużyć się funkcją `cv2.getStructuringElement`, do której należy podać kształt `cv2.MORPH_RECT` oraz wielkość elementu `(3,3)`. Na początku użyj kwadratu o rozmiarze 3 pikseli.\n",
        "3. Wyświetl obraz oryginalny oraz po wykonaniu erozji – najlepiej na wspólnym wykresie. Upewnij się, że rozumiesz, jak działa erozja.\n",
        "4. Zmień element strukturalny (inny kształt – koło, diament lub inny rozmiar). Ponownie wykonaj erozję, sprawdź rezultat działania operacji.\n",
        "5. Oprócz zmiany elementu strukturalnego na rezultat erozji można wpłynąć zwiększając liczbę iteracji (np. wykonać erozję trzykrotnie). Ustal element strukturalny na kwadrat o boku 3 piksele. Wykonaj erozję obrazu _ertka_ dwukrotnie, a następnie trzykrotnie. Zaobserwuj rezultaty. Wskazówka: warto zajrzeć do dokumentacji funkcji `erode`.\n",
        "6. Wczytaj obraz buzka.bmp. Dobierz element strukturalny (zdefiniuj go ręcznie jako macierz 0 i 1) w taki sposób, aby usunąć włosy o określonej orientacji (ukośnie lewo lub prawo).\n",
        "7. Uwaga: pokazane metody wpływania na rezultaty erozji wykorzystuje się identycznie dla pozostałych operacji morfologicznych – dylatacji, otwarcia i zamknięcia.\n",
        "8. Operacją odwrotną do erozji jest dylatacja `cv2.dilate`. Ustal element strukturalny na kwadrat o boku 3 piksele. Wykonaj dylatację obrazu _ertka_. Zapoznaj się z rezultatem działania.\n",
        "9. Na wspólnym wykresie wyświetl obraz oryginalny oraz obrazy po operacjach morfologicznych: erozja, dylatacja, otwarcie i zamkniecie. Otwarcie i zamknięcie można uzyskać za pomocą `cv2.morphologyEx(img, operacja, element_strukturalny)`, gdzie typem operacji jest `cv2.MORPH_OPEN` lub `cv2.MORPH_CLOSE`.\n",
        "10. Zmień obraz _ertka_ na _wyspa_, a następnie na _kolka_. Wykonaj na każdym cztery przedstawione operacje morfologiczne. Zaobserwuj rezultaty.\n",
        "11. Minizadanko: wykorzystując poznane operacje morfologiczne spowoduj, że na obrazie _ertka_ pozostanie tylko napis RT (bez wypustek i dziur).\n",
        "12. Niekiedy potrzebne jest wykrycie konkretnych konfiguracji pikseli na obrazie – przydaje się do tego transformacja trafi, nie trafi (ang. _hit-or-miss_). Pozwala ona wykryć na obrazie obecność elementów, które dokładnie odpowiadają masce.\n",
        "13. Wczytaj obraz hom.bmp. Wyświetl go. Załóżmy, że chcemy wykryć na obrazie krzyżyki 3x3. Zdefiniuj następujący element strukturalny:\n",
        "```\n",
        "[0,1,0]\n",
        "[1,1,1]\n",
        "[0,1,0]\n",
        "```\n",
        "Wykonaj transformację trafi, nie trafi – `cv2.morphologyEx(hom, cv2.MORPH_HITMISS, se1)`. Rezultat operacji wyświetl. Czy udało się zrealizować zadanie? Jeżeli pojawiają się u Państwa błędy związane z typem danych, należy obraz wejściowy przekonwertować na skalę szarości: `cv2.cvtColor(hom, cv2.COLOR_BGR2GRAY)`.\n"
      ]
    },
    {
      "cell_type": "code",
      "execution_count": null,
      "metadata": {
        "id": "r375Q-2bKHG1"
      },
      "outputs": [],
      "source": [
        "import matplotlib.pyplot as plt\n",
        "import cv2\n",
        "import numpy as np\n",
        "import os\n",
        "import requests\n",
        "\n",
        "url = 'https://raw.githubusercontent.com/vision-agh/poc_sw/master/10_Morphology/'\n",
        "\n",
        "fileNames = [\"buzka.bmp\", \"calculator.bmp\", \"ertka.bmp\", \"ferrari.bmp\", \"fingerprint.bmp\", \"hom.bmp\", \"kolka.bmp\", \"kosc.bmp\", \"szkielet.bmp\", \"text.bmp\", \"wyspa.bmp\", \"rice.png\", \"gra.py\"]\n",
        "for fileName in fileNames:\n",
        "  if not os.path.exists(fileName):\n",
        "      r = requests.get(url + fileName, allow_redirects=True)\n",
        "      open(fileName, 'wb').write(r.content)\n"
      ]
    },
    {
      "cell_type": "code",
      "execution_count": null,
      "metadata": {
        "colab": {
          "base_uri": "https://localhost:8080/",
          "height": 438
        },
        "id": "4VDi_I2fZQOs",
        "outputId": "6702d100-5dbc-493f-fafc-5a50732edb1f"
      },
      "outputs": [],
      "source": [
        "#1\n",
        "ertka = cv2.imread('ertka.bmp', cv2.IMREAD_GRAYSCALE)\n",
        "plt.imshow(ertka, cmap='gray')"
      ]
    },
    {
      "cell_type": "code",
      "execution_count": null,
      "metadata": {
        "colab": {
          "base_uri": "https://localhost:8080/",
          "height": 243
        },
        "id": "vue3nl6-Z2qa",
        "outputId": "32af33e6-5808-4204-85cf-5dbb2ca023d5"
      },
      "outputs": [],
      "source": [
        "#2\n",
        "erode_ertka = cv2.erode(ertka, cv2.getStructuringElement(cv2.MORPH_RECT, (3,3)))\n",
        "\n",
        "#3\n",
        "fig, ax = plt.subplots(1, 2)\n",
        "fig.set_size_inches(7, 15)\n",
        "ax[0].imshow(ertka, cmap='gray')\n",
        "ax[1].imshow(erode_ertka, cmap='gray')\n",
        "fig.show()"
      ]
    },
    {
      "cell_type": "code",
      "execution_count": null,
      "metadata": {
        "colab": {
          "base_uri": "https://localhost:8080/",
          "height": 243
        },
        "id": "hOS8Q2zbbAho",
        "outputId": "5743aa6f-c8f1-4622-feb4-6d305e62ee2b"
      },
      "outputs": [],
      "source": [
        "#4\n",
        "erode_ertka = cv2.erode(ertka, cv2.getStructuringElement(cv2.MORPH_CROSS, (3,3)))\n",
        "\n",
        "fig, ax = plt.subplots(1, 2)\n",
        "fig.set_size_inches(7, 15)\n",
        "ax[0].imshow(ertka, cmap='gray')\n",
        "ax[1].imshow(erode_ertka, cmap='gray')\n",
        "fig.show()"
      ]
    },
    {
      "cell_type": "code",
      "execution_count": null,
      "metadata": {
        "colab": {
          "base_uri": "https://localhost:8080/",
          "height": 180
        },
        "id": "30lncIYNb40A",
        "outputId": "0c6b5b88-1982-4394-f707-ed8c56e1b540"
      },
      "outputs": [],
      "source": [
        "#5\n",
        "fig, ax = plt.subplots(1, 3)\n",
        "fig.set_size_inches(7, 15)\n",
        "ax[0].imshow(ertka, cmap='gray')\n",
        "\n",
        "erode_ertka_2 = cv2.erode(ertka, cv2.getStructuringElement(cv2.MORPH_RECT, (3,3)), iterations=2)\n",
        "ax[1].imshow(erode_ertka_2, cmap='gray')\n",
        "erode_ertka_3 = cv2.erode(ertka, cv2.getStructuringElement(cv2.MORPH_RECT, (3,3)), iterations=3)\n",
        "ax[2].imshow(erode_ertka_3, cmap='gray')\n",
        "\n",
        "fig.show()"
      ]
    },
    {
      "cell_type": "code",
      "execution_count": null,
      "metadata": {
        "colab": {
          "base_uri": "https://localhost:8080/",
          "height": 255
        },
        "id": "QyDpE-R0ckkz",
        "outputId": "065d8001-eb21-43af-cdfa-2bc1f15b57f4"
      },
      "outputs": [],
      "source": [
        "#6, 7\n",
        "buzka = cv2.imread('buzka.bmp', cv2.IMREAD_GRAYSCALE)\n",
        "\n",
        "erode_buzka_left = cv2.erode(buzka, np.array([  [1,0,0],\n",
        "                                                [0,1,0],\n",
        "                                                [0,0,1]], np.uint8))\n",
        "erode_buzka_right = cv2.erode(buzka, np.array([ [0,0,1],\n",
        "                                                [0,1,0],\n",
        "                                                [1,0,0]], np.uint8))\n",
        "\n",
        "fig, ax = plt.subplots(1, 3)\n",
        "fig.set_size_inches(7, 15)\n",
        "ax[0].imshow(buzka, cmap='gray')\n",
        "ax[1].imshow(erode_buzka_left, cmap='gray')\n",
        "ax[2].imshow(erode_buzka_right, cmap='gray')\n",
        "fig.show()"
      ]
    },
    {
      "cell_type": "code",
      "execution_count": null,
      "metadata": {
        "colab": {
          "base_uri": "https://localhost:8080/",
          "height": 243
        },
        "id": "Q3B3b8LBefjz",
        "outputId": "5211ae88-70fa-49da-82fa-e1e0767f9b11"
      },
      "outputs": [],
      "source": [
        "#8\n",
        "dilate_ertka = cv2.dilate(ertka, cv2.getStructuringElement(cv2.MORPH_RECT, (3,3)))\n",
        "\n",
        "fig, ax = plt.subplots(1, 2)\n",
        "fig.set_size_inches(7, 15)\n",
        "ax[0].imshow(ertka, cmap='gray')\n",
        "ax[1].imshow(dilate_ertka, cmap='gray')\n",
        "fig.show()"
      ]
    },
    {
      "cell_type": "code",
      "execution_count": null,
      "metadata": {
        "id": "9gn1V8FZfa9L"
      },
      "outputs": [],
      "source": [
        "#9\n",
        "def show_operations(image):\n",
        "  fig, ax = plt.subplots(1, 5)\n",
        "  fig.set_size_inches(15, 7)\n",
        "  ax[0].imshow(image, cmap='gray')\n",
        "  erode_image = cv2.erode(image, cv2.getStructuringElement(cv2.MORPH_RECT, (3,3)))\n",
        "  ax[1].imshow(erode_image, cmap='gray')\n",
        "  dilate_image = cv2.dilate(image, cv2.getStructuringElement(cv2.MORPH_RECT, (3,3)))\n",
        "  ax[2].imshow(dilate_image, cmap='gray')\n",
        "\n",
        "  open_image = cv2.morphologyEx(image, cv2.MORPH_OPEN, cv2.getStructuringElement(cv2.MORPH_RECT, (3,3)))\n",
        "  close_image = cv2.morphologyEx(image, cv2.MORPH_CLOSE, cv2.getStructuringElement(cv2.MORPH_RECT, (3,3)))\n",
        "  ax[3].imshow(open_image, cmap='gray')\n",
        "  ax[4].imshow(close_image, cmap='gray')\n",
        "\n",
        "  fig.show()"
      ]
    },
    {
      "cell_type": "code",
      "execution_count": null,
      "metadata": {
        "colab": {
          "base_uri": "https://localhost:8080/",
          "height": 209
        },
        "id": "kFvFx4wceu1h",
        "outputId": "e0c26bc8-330f-4e2e-ba6e-bd6e765661cb"
      },
      "outputs": [],
      "source": [
        "show_operations(ertka)"
      ]
    },
    {
      "cell_type": "code",
      "execution_count": null,
      "metadata": {
        "colab": {
          "base_uri": "https://localhost:8080/",
          "height": 513
        },
        "id": "d5b9GZ2nf0il",
        "outputId": "37e4b1f1-dea4-4f03-a766-dfbc0a67d61a"
      },
      "outputs": [],
      "source": [
        "#10\n",
        "wyspa = cv2.imread('wyspa.bmp', cv2.IMREAD_GRAYSCALE)\n",
        "kolka = cv2.imread('kolka.bmp', cv2.IMREAD_GRAYSCALE)\n",
        "show_operations(wyspa)\n",
        "show_operations(kolka)"
      ]
    },
    {
      "cell_type": "code",
      "execution_count": null,
      "metadata": {
        "colab": {
          "base_uri": "https://localhost:8080/",
          "height": 438
        },
        "id": "WbkeiIeXgCfj",
        "outputId": "6d3c9f69-7944-4de0-c7a2-9ad4cc0a93d4"
      },
      "outputs": [],
      "source": [
        "#11\n",
        "mod_ertka = cv2.morphologyEx(ertka, cv2.MORPH_OPEN, cv2.getStructuringElement(cv2.MORPH_RECT, (3,3)))\n",
        "mod_ertka = cv2.morphologyEx(mod_ertka, cv2.MORPH_CLOSE, cv2.getStructuringElement(cv2.MORPH_RECT, (3,3)))\n",
        "plt.imshow(mod_ertka, cmap='gray')"
      ]
    },
    {
      "cell_type": "code",
      "execution_count": null,
      "metadata": {
        "colab": {
          "base_uri": "https://localhost:8080/",
          "height": 386
        },
        "id": "65yAMsDqgZqv",
        "outputId": "ffb0caea-d25b-455e-895c-140b0926f35a"
      },
      "outputs": [],
      "source": [
        "#12\n",
        "hom = cv2.imread('hom.bmp', cv2.IMREAD_GRAYSCALE)\n",
        "plt.imshow(hom, cmap='gray')"
      ]
    },
    {
      "cell_type": "code",
      "execution_count": null,
      "metadata": {
        "colab": {
          "base_uri": "https://localhost:8080/",
          "height": 386
        },
        "id": "ub3eOkMsgtoW",
        "outputId": "64c3105f-52df-4a92-cf40-8d5c9cbfe263"
      },
      "outputs": [],
      "source": [
        "#13\n",
        "se1 = np.array([\n",
        "    [0,1,0],\n",
        "    [1,1,1],\n",
        "    [0,1,0]], np.uint8)\n",
        "mod_hom = cv2.morphologyEx(hom, cv2.MORPH_HITMISS, se1)\n",
        "plt.imshow(mod_hom, cmap='gray')"
      ]
    },
    {
      "cell_type": "markdown",
      "metadata": {
        "id": "QgLQKgtvKHG2"
      },
      "source": [
        "## Inne operacje morfologiczne\n",
        "Do innych operacji morfologicznych należą między innymi ścienianie (ang. _thinning_), szkieletyzacja (ang. _skeletonization_), rekonstrukcja morfologiczna (ang. _morphological reconstruction_), czyszczenie brzegu (ang. _clearing border_) i uzupełnianie dziur (ang. _filling holes_). W tym rozdziale zostanie zaprezentowana rekonstrukcja morfologiczna.\n",
        "\n",
        "Rekonstrukcja morfologiczna jest operacją trójargumentową. Wymaga podania markera (obrazu, od którego zacznie się transformacja), maski (ograniczenia transformacji) oraz elementu strukturalnego. Operacja polega na wykonywaniu kroków (dopóki w dwóch kolejnych iteracjach nic się nie zmieni):\n",
        "- dylatacja obrazu markera (z danym elementem strukturalnym),\n",
        "- nowy marker = część wspólna dylatacji starego markera i maski.\n",
        "\n",
        "Trzy operacje, które wykorzystują schemat rekonstrukcji to:\n",
        "- otwarcie poprzez rekonstrukcję,\n",
        "- wypełnianie dziur,\n",
        "- czyszczenie brzegu.\n",
        "\n",
        "### Otwarcie poprzez rekonstrukcję:\n",
        "- Wczytaj obraz text.bmp, wyświetl go.\n",
        "- Załóżmy, że chcemy wykryć na obrazie litery, które zawierają długie pionowe fragmenty. W pierwszym podejściu stosujemy morfologiczne otwarcie z maską pionową o wysokości 51 pikseli (taka jest średnia wysokość liter na obrazie – `np.ones((51,1))`. Sprawdź rezultat takiej operacji.\n",
        "- Detekcja wprawdzie sie udała, ale otrzymujemy tylko pionowe kreski.\n",
        "- Rozwiązaniem jest rekonstrukcja – jako marker wybieramy obraz oryginalny poddany erozji. Maskę stanowi obraz oryginalny. Samodzielnie dobierz element strukturalny.\n",
        "- Zaimplementuj rekonstrukcję i porównaj efekt otwarcia i rekonstrukcji.\n"
      ]
    },
    {
      "cell_type": "code",
      "execution_count": null,
      "metadata": {
        "colab": {
          "base_uri": "https://localhost:8080/",
          "height": 308
        },
        "id": "6oy1-pqdKHG3",
        "outputId": "e31b5777-8cc7-414c-971e-e10f566b00d9"
      },
      "outputs": [],
      "source": [
        "text = cv2.imread('text.bmp', cv2.IMREAD_GRAYSCALE)\n",
        "plt.imshow(text, cmap='gray')"
      ]
    },
    {
      "cell_type": "code",
      "execution_count": null,
      "metadata": {
        "colab": {
          "base_uri": "https://localhost:8080/",
          "height": 308
        },
        "id": "YJ-zTNmBhffq",
        "outputId": "8b3f42c7-5059-465d-c7c3-60e504cfdd52"
      },
      "outputs": [],
      "source": [
        "long_text = mod_ertka = cv2.morphologyEx(text, cv2.MORPH_OPEN, np.ones((51, 1)))\n",
        "plt.imshow(long_text, cmap='gray')"
      ]
    },
    {
      "cell_type": "code",
      "execution_count": null,
      "metadata": {
        "id": "hmHredqeh1D_"
      },
      "outputs": [],
      "source": [
        "def imreconstruct(marker: np.ndarray, mask: np.ndarray, kernel: np.ndarray = np.ones(shape=(3,3), dtype=np.uint8)):\n",
        "    while True:\n",
        "        # dylatacja obrazu markera (z danym elementem strukturalnym),\n",
        "        expanded = cv2.dilate(src=marker, kernel=kernel)\n",
        "        # nowy marker = część wspólna dylatacji starego markera i maski.\n",
        "        cv2.bitwise_and(src1=expanded, src2=mask, dst=expanded)\n",
        "        # Operacja polega na wykonywaniu kroków (dopóki w dwóch kolejnych iteracjach nic się nie zmieni)\n",
        "        if (marker == expanded).all():\n",
        "            return expanded\n",
        "        marker = expanded"
      ]
    },
    {
      "cell_type": "code",
      "execution_count": null,
      "metadata": {
        "colab": {
          "base_uri": "https://localhost:8080/",
          "height": 308
        },
        "id": "X2LWAYy_iOyT",
        "outputId": "1d93cfe7-67c5-4b66-e8fd-2e5ee7fcc49c"
      },
      "outputs": [],
      "source": [
        "recon = imreconstruct(marker=long_text, mask=text)\n",
        "plt.imshow(recon, cmap='gray')"
      ]
    },
    {
      "cell_type": "markdown",
      "metadata": {
        "id": "x_irwB7fKHG3"
      },
      "source": [
        "## Operacje morfologiczne dla obrazów w skali szarości\n",
        "\n",
        "Wszystkie dotychczasowe operacje (oprócz transformacji trafi, nie trafi) mają swoje odpowieniki dla obrazów w skali szarości. Konieczne jest tylko podanie definicji erozji i dylatacji w nieco innej formie:\n",
        "- Erozja – filtr minimalny.\n",
        "- Dylatacja – filtr maksymalny.\n",
        "\n",
        "\n",
        "1. Wczytaj obraz ferrari.bmp i wykonaj operacje morfologiczne: erozję i dylatację. Element strukturalny ustal na kwadrat 3×3. Oblicz też różnicę pomiędzy obrazem po dylatacji a po erozji – czyli tzw. gradient morfologiczny. Rezultaty wyświetl na wspólnym wykresie.\n",
        "2. Otwarcie to tłumienie jasnych detali na obrazie. Zamkniecie to tłumienie ciemnych detali na obrazie. Potwierdź powyższe stwierdzenia wykonując obie operacje na obrazie _ferrari_.\n",
        "3. Wykonaj operacje top-hat i bottom-hat `cv2.morphologyEx(img, cv2.MORPH_TOPHAT, strel)` oraz `cv2.morphologyEx(img, cv2.MORPH_BLACKHAT, strel)` na obrazie _ferrari_. Jakie obszary udało sie wykryć za pomocą tej operacji? Z jakich operacji składa sie filtr top-hat?\n",
        "4. Wczytaj obraz rice.png (z laboratorium o binaryzacji). Wyświetl go. Zwróć uwage na niejednorodne oświetlenie. Wykonaj operacje top-hat z dużym elementem strukturalnym (np. koło o rozmiarze 10) na tym obrazie. Wynik wyświetl. Co stało się z niejednorodnością oświetlenia?"
      ]
    },
    {
      "cell_type": "code",
      "execution_count": null,
      "metadata": {
        "colab": {
          "base_uri": "https://localhost:8080/",
          "height": 411
        },
        "id": "jmp6zrXkKHG4",
        "outputId": "cad6d73f-c5a7-4a4c-a0a9-28bc6e201fdb",
        "pycharm": {
          "name": "#%%\n"
        }
      },
      "outputs": [],
      "source": [
        "#1\n",
        "ferrari = cv2.imread('ferrari.bmp', cv2.IMREAD_GRAYSCALE)\n",
        "plt.imshow(ferrari, cmap='gray')"
      ]
    },
    {
      "cell_type": "code",
      "execution_count": null,
      "metadata": {
        "colab": {
          "base_uri": "https://localhost:8080/",
          "height": 233
        },
        "id": "oNA2N8ScjRP7",
        "outputId": "48e0744e-c341-472b-f0b5-38bcf957eb91"
      },
      "outputs": [],
      "source": [
        "#2\n",
        "fig, ax = plt.subplots(1, 5)\n",
        "fig.set_size_inches(15, 7)\n",
        "\n",
        "ax[0].imshow(ferrari, cmap='gray')\n",
        "erode_ferrari = cv2.erode(ferrari, cv2.getStructuringElement(cv2.MORPH_RECT, (3,3)))\n",
        "ax[1].imshow(erode_ferrari, cmap='gray')\n",
        "dilate_ferrari = cv2.dilate(ferrari, cv2.getStructuringElement(cv2.MORPH_RECT, (3,3)))\n",
        "ax[2].imshow(dilate_ferrari, cmap='gray')\n",
        "\n",
        "gradient_errode = ferrari - erode_ferrari\n",
        "gradient_dilate = dilate_ferrari - ferrari\n",
        "ax[3].imshow(gradient_errode, cmap='gray')\n",
        "ax[4].imshow(gradient_dilate, cmap='gray')\n",
        "\n",
        "fig.show()"
      ]
    },
    {
      "cell_type": "code",
      "execution_count": null,
      "metadata": {
        "colab": {
          "base_uri": "https://localhost:8080/",
          "height": 292
        },
        "id": "XDRJCr35j5ZO",
        "outputId": "b24d82a3-e9f3-4abf-9631-398efc2bd7cc"
      },
      "outputs": [],
      "source": [
        "\n",
        "fig, ax = plt.subplots(1, 3)\n",
        "fig.set_size_inches(15, 7)\n",
        "\n",
        "ax[0].imshow(ferrari, cmap='gray')\n",
        "open_ferrari = cv2.morphologyEx(ferrari, cv2.MORPH_OPEN, cv2.getStructuringElement(cv2.MORPH_RECT, (3,3)))\n",
        "close_ferrari = cv2.morphologyEx(ferrari, cv2.MORPH_CLOSE, cv2.getStructuringElement(cv2.MORPH_RECT, (3,3)))\n",
        "ax[1].imshow(open_ferrari, cmap='gray')\n",
        "ax[2].imshow(close_ferrari, cmap='gray')\n",
        "\n",
        "fig.show()\n"
      ]
    },
    {
      "cell_type": "code",
      "execution_count": null,
      "metadata": {
        "colab": {
          "base_uri": "https://localhost:8080/",
          "height": 292
        },
        "id": "FdmkmBSUkVEp",
        "outputId": "1fa4b909-b9e3-4ffa-aba5-11f13c60cc8d"
      },
      "outputs": [],
      "source": [
        "#3\n",
        "fig, ax = plt.subplots(1, 3)\n",
        "fig.set_size_inches(15, 7)\n",
        "\n",
        "ax[0].imshow(ferrari, cmap='gray')\n",
        "open_ferrari = cv2.morphologyEx(ferrari, cv2.MORPH_TOPHAT, cv2.getStructuringElement(cv2.MORPH_RECT, (5,5)))\n",
        "close_ferrari = cv2.morphologyEx(ferrari, cv2.MORPH_BLACKHAT, cv2.getStructuringElement(cv2.MORPH_RECT, (5,5)))\n",
        "ax[1].imshow(open_ferrari, cmap='gray')\n",
        "ax[2].imshow(close_ferrari, cmap='gray')\n",
        "\n",
        "fig.show()"
      ]
    },
    {
      "cell_type": "code",
      "execution_count": null,
      "metadata": {
        "colab": {
          "base_uri": "https://localhost:8080/",
          "height": 593
        },
        "id": "NaG2wEE7kusH",
        "outputId": "0bc4cc23-7447-4fd9-960b-894653baa2e7"
      },
      "outputs": [],
      "source": [
        "#4\n",
        "rice = cv2.imread('rice.png', cv2.IMREAD_GRAYSCALE)\n",
        "fig, ax = plt.subplots(1, 2)\n",
        "fig.set_size_inches(15, 7)\n",
        "\n",
        "ax[0].imshow(rice, cmap='gray')\n",
        "open_rice = cv2.morphologyEx(rice, cv2.MORPH_TOPHAT, cv2.getStructuringElement(cv2.MORPH_ELLIPSE, (10,10)))\n",
        "ax[1].imshow(open_rice, cmap='gray')\n",
        "\n",
        "fig.show()"
      ]
    },
    {
      "cell_type": "markdown",
      "metadata": {
        "id": "qIwoiXs-KHG4"
      },
      "source": [
        "## Przykład zastosowania morfologii\n",
        "\n",
        "1. Wczytaj obraz calculator.bmp. Wyświetl go. Zadanie do realizacji: wyizolować tekst na klawiszach kalkulatora.\n",
        "2. W pierwszym kroku usunięte zostaną poziome odbicia znajdujące się na górnej krawędzi każdego z klawiszy. Wykorzystamy fakt, że odbicie jest dłuższe niż jakikolwiek pojedynczy znak. Wykonujemy otwarcie przez rekonstrukcję (można wykorzystać kod z wcześniejszego zadania, ale tym razem mamy do czynienia z obrazem w skali szarości zamiast z binarnym – proszę się zastanowić, jaka operacja jest odpowiednikiem operacji AND?):\n",
        "  - początkowo wykonujemy erozję z elementem strukturalnym w postaci poziomej linii — `np.ones((1,71))`,\n",
        "  - następnie dokonujemy rekonstrukcji: marker – obraz po erozji, maska – obraz oryginalny,\n",
        "  - wynik operacji wyświetl. Dla porównania wyświetl wynik klasycznego otwarcia z takim samym elementem strukturalnym. W czym otwarcie przez rekonstrukcję jest lepsze od klasycznego?\n",
        "3. W poprzednim kroku (tj. w wyniku otwarcia przez rekonstrukcję) uzyskaliśmy obraz tła. Należy go teraz odjąć od obrazu oryginalnego. Ten rodzaj operacji można nazwać top-hat poprzez rekonstrukcję. Wynik wyświetl. Dla porównania wyświetl wynik klasycznej operacji top-hat – różnicy miedzy obrazem oryginalnym a obrazem po klasycznym otwarciu.\n",
        "4. W podobny sposób należy zlikwidować odblaski pionowe:\n",
        "  - erozja z elementem strukturalnym w postaci poziomej linii – `np.ones((1,11))` – zostaną zachowane wszystkie znaki (bo prawie wszystkie są szersze). Uwaga. Operacje wykonujemy na uzyskanym w kroku 3 rezultacie odjęcia od obrazu oryginalnego, obrazu po rekonstrukcji.\n",
        "  - rekonstrukcja: marker – obraz po erozji, maska – obraz z punktu 3 (różnica oryginalnego i tła),\n",
        "  - wynik wyświetl.\n",
        "5. Rezultat jest niemal satysfakcjonujący, ale wystąpił problem z cienkimi pionowymi elementami napisów – np. I na klawiszu ASIN. Wykorzystując fakt, że usunięte znaki znajdują się w bezpośrednim sąsiedztwie istniejących znaków wykonujemy następujące operacje:\n",
        "  - dylatacja z elementem `np.ones((1,21))`,\n",
        "  - rekonstrukcja z markerem w postaci – minimum(obraz po dylatacji z punktu powyżej, obraz uzyskany w punkcie 3, tj. różnica oryginalnego i tła) oraz maską – obraz z pkt. 3.\n",
        "6. Rezultat wyświetl. Czy za pomocą zaproponowanych operacji udało się uzyskać zamierzony efekt – ekstrakcję napisów?\n"
      ]
    },
    {
      "cell_type": "code",
      "execution_count": null,
      "metadata": {
        "colab": {
          "base_uri": "https://localhost:8080/",
          "height": 1000
        },
        "collapsed": true,
        "id": "DIy6L9S7KHG5",
        "outputId": "e1089615-0102-4b3c-a2aa-f6ed6ab8f249",
        "pycharm": {
          "name": "#%%\n"
        }
      },
      "outputs": [],
      "source": [
        "#1\n",
        "calc = cv2.imread('calculator.bmp', cv2.IMREAD_GRAYSCALE)\n",
        "plt.imshow(calc, cmap='gray')\n",
        "plt.show()\n",
        "\n",
        "#2\n",
        "calc_erode = cv2.erode(calc, np.ones((1,71)))\n",
        "classic_open = cv2.morphologyEx(calc, cv2.MORPH_OPEN, np.ones((1,71)))\n",
        "fig, ax = plt.subplots(1, 2)\n",
        "fig.set_size_inches(15, 7)\n",
        "ax[0].imshow(calc_erode, 'gray')\n",
        "ax[1].imshow(classic_open, 'gray')\n",
        "plt.show()\n",
        "\n",
        "recon = imreconstruct(marker=calc_erode, mask=calc)\n",
        "classic_recon = imreconstruct(marker=classic_open, mask=calc)\n",
        "fig, ax = plt.subplots(1, 3)\n",
        "fig.set_size_inches(15, 7)\n",
        "ax[0].imshow(recon, 'gray')\n",
        "ax[1].imshow(classic_recon, 'gray')\n",
        "ax[2].imshow(abs(recon-classic_recon), 'gray')\n",
        "plt.show()\n",
        "\n",
        "#3\n",
        "recon_top_hat = calc - recon\n",
        "recon_classic_top_hat = calc - classic_recon\n",
        "fig, ax = plt.subplots(1, 3)\n",
        "fig.set_size_inches(15, 7)\n",
        "ax[0].imshow(recon_top_hat, 'gray')\n",
        "ax[1].imshow(recon_classic_top_hat, 'gray')\n",
        "ax[2].imshow(abs(recon_top_hat-recon_classic_top_hat), 'gray')\n",
        "plt.show()\n",
        "\n",
        "#4\n",
        "erode = cv2.erode(recon_top_hat, np.ones((1,11)))\n",
        "recon = imreconstruct(marker=erode, mask=recon_top_hat)\n",
        "plt.imshow(recon, cmap='gray')\n",
        "plt.show()\n",
        "\n",
        "#5\n",
        "calc_dilate = cv2.dilate(recon, np.ones((1,21)))\n",
        "recon = imreconstruct(marker=np.minimum(calc_dilate, recon_top_hat), mask=recon_top_hat)\n",
        "plt.imshow(recon, cmap='gray')\n",
        "plt.show()"
      ]
    }
  ],
  "metadata": {
    "celltoolbar": "Raw Cell Format",
    "colab": {
      "provenance": []
    },
    "kernelspec": {
      "display_name": "Python 3",
      "language": "python",
      "name": "python3"
    },
    "language_info": {
      "codemirror_mode": {
        "name": "ipython",
        "version": 3
      },
      "file_extension": ".py",
      "mimetype": "text/x-python",
      "name": "python",
      "nbconvert_exporter": "python",
      "pygments_lexer": "ipython3",
      "version": "3.10.13"
    }
  },
  "nbformat": 4,
  "nbformat_minor": 0
}
