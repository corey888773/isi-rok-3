{
  "cells": [
    {
      "cell_type": "markdown",
      "metadata": {
        "id": "RBF5MfbkOq00"
      },
      "source": [
        "# Instrukcja - Transformacja Hougha\n",
        "\n",
        "### Cel:\n",
        "- zapoznanie z transformacją Hougha dla pojedynczego punktu,\n",
        "- kilku punktów, prostych figur\n",
        "- wykorzystanie transformacji Hougha do detekcji linii prostych na rzeczywistym obrazie\n",
        "- transformacja Hougha w przestrzeni ab\n",
        "\n",
        "### Transformacja Hough'a\n",
        "\n",
        "Transformacja Hougha dla prostych jest metodą detekcji współliniowych punktów. Każda prosta może być jednoznacznie przedstawiona za pomocą dwóch parametrów. Przestrzeń tych parametrów to przestrzeń Hougha. Najczęściej wykorzystywanymi parametrami w tej metodzie są współczynniki ρ,θ\n",
        "\n",
        "opisujące równanie prostej w postaci normalnej:\n",
        "\n",
        "ρ=x⋅cos(θ)+y⋅sin(θ)\n",
        "\n",
        "gdzie: ρ - promień wodzący, θ - kąt pomiędzy ρ a osią OX.\n",
        "\n",
        "Własności transformacji Hougha:\n",
        "- prostej w przestrzeni kartezjańskiej odpowiada punkt w przestrzeni Hougha\n",
        "- pękowi prostych przechdzących przez punkt w przestrzeni kartezjańskiej odpowiada krzywa sinusoidalna w przestrzeni Hougha\n",
        "- punkty leżące na tej samej prostej (w przestrzeni kartezjańskiej) korespondują z sinusoidami przechodzącymi przez wspólny punkt w przestrzeni Hougha.\n",
        "\n",
        "Metoda wyliczania transformacji Hougha składa się z następujących kroków:\n",
        "- przez każdy badany (różny od zera) punkt obrazu prowadzony jest pęk prostych, przechodzących przez ten punkt\n",
        "- każda z tych prostych transformowana jest do przestrzeni Hougha i tworzy tam punkt o współrzędnych ρ,θ\n",
        "- w ten sposób, każdy punkt obrazu pierwotnego (pęk prostych) jest odwzorowany w sinusoidalną krzywą w przestrzeni Hougha\n",
        "\n",
        "Przestrzeń Hougha jest przestrzenią akumulacyjną tzn. punkty sinusoidalnych krzywych, wygenerowanych dla punktów obrazu pierwotnego dodają się w miejscach, w których krzywe te przecinają się. Powstałe w ten sposób (w przestrzeni Hougha) maksima odpowiadają zbiorom punktów, należących do jednej prostej. Współrzędne ρ,θ\n",
        "tego maksimum jednoznacznie określają położenie prostej na obrazie pierwotnym.\n",
        "\n",
        "### Transformacja Hougha dla małej liczby punktów.\n",
        "   1. Uruchom poniższy kod. W tablicy `im` wskaż jeden punkt, dla którego ma zostać obliczona transformata."
      ]
    },
    {
      "cell_type": "code",
      "execution_count": null,
      "metadata": {
        "id": "xZ-hNU_COq03"
      },
      "outputs": [],
      "source": [
        "import matplotlib.pyplot as plt\n",
        "import cv2\n",
        "import numpy as np\n",
        "from skimage.transform import hough_line, hough_line_peaks\n",
        "import os\n",
        "import requests\n",
        "\n",
        "url = 'https://raw.githubusercontent.com/vision-agh/poc_sw/master/11_Hough/'\n",
        "\n",
        "fileNames = [\"dom.png\", \"kwadraty.png\", \"lab112.png\"]\n",
        "for fileName in fileNames:\n",
        "  if not os.path.exists(fileName):\n",
        "      r = requests.get(url + fileName, allow_redirects=True)\n",
        "      open(fileName, 'wb').write(r.content)\n",
        "\n",
        "im = np.zeros((64,64), dtype=np.uint8)\n",
        "\n",
        "im[20, 40] = 1\n",
        "\n",
        "fig, ax = plt.subplots()\n",
        "fig.set_size_inches(4, 4)\n",
        "ax.imshow(im, 'gray')\n",
        "ax.axis('off')"
      ]
    },
    {
      "cell_type": "markdown",
      "metadata": {
        "id": "dUaTnRlvOq04"
      },
      "source": [
        "3. Wykonaj transformację Hougha obazu im. Wykorzystaj funkcję *hough_line* z modułu _skimage.transform_. Funkcja zwraca: macierz H (przestrzeń Hougha) oraz dwa wektory theta i rho dla kolejnych\n",
        "4. Wyświetl przestrzeń Hougha za pomocą funkcji _plt.imshow_ (można też wykorzystać poniższą funkcję *show_hough*). Jak \"wygląda\" pojedynczy punkt w przestrzeni Hougha?"
      ]
    },
    {
      "cell_type": "code",
      "execution_count": null,
      "metadata": {
        "id": "q-1u0OPhOq05"
      },
      "outputs": [],
      "source": [
        "def show_hough(h, image):\n",
        "    # Generating figure 1\n",
        "    fig, axes = plt.subplots(1, 2, figsize=(15, 6))\n",
        "    ax = axes.ravel()\n",
        "\n",
        "    ax[0].imshow(image, 'gray')\n",
        "    ax[0].set_title('Input image')\n",
        "    ax[0].set_axis_off()\n",
        "\n",
        "    ax[1].imshow(h, 'gray')\n",
        "    ax[1].set_title('Hough transform')\n",
        "    ax[1].set_xlabel('Angles (degrees)')\n",
        "    ax[1].set_ylabel('Distance (pixels)')\n",
        "    ax[1].axis('image')\n",
        "\n",
        "    plt.tight_layout()\n",
        "    plt.show()\n",
        "\n",
        "#3\n",
        "h, theta, rho = hough_line(im)\n",
        "#4\n",
        "show_hough(h, im)\n"
      ]
    },
    {
      "cell_type": "markdown",
      "metadata": {
        "id": "N7LDZytIOq06"
      },
      "source": [
        "5. Powtórz punkty 1-4, ale tym razem klinkij dwa punkty. Jak zmienia się przestrzeń Hougha?\n",
        "6. Powtórz punkty 1-4, ale tym razem kliknij kilka punktów starając się aby były współliniowe. Zaobserwuj zmiany w przestrzeni Hougha\n",
        "7. Poeksperymentuj z różnymi układami punktów"
      ]
    },
    {
      "cell_type": "code",
      "execution_count": null,
      "metadata": {
        "id": "FTuKJr37gN7l"
      },
      "outputs": [],
      "source": [
        "#5\n",
        "im = np.zeros((64,64), dtype=np.uint8)\n",
        "\n",
        "im[31, 31] = 1\n",
        "im[40, 40] = 1\n",
        "\n",
        "h, theta, rho = hough_line(im)\n",
        "show_hough(h, im)"
      ]
    },
    {
      "cell_type": "code",
      "execution_count": null,
      "metadata": {
        "id": "1zR60rLggyBa"
      },
      "outputs": [],
      "source": [
        "#6\n",
        "im = np.zeros((64,64), dtype=np.uint8)\n",
        "\n",
        "for i in range(20, 40):\n",
        "  im[i, 20] = 1\n",
        "\n",
        "h, theta, rho = hough_line(im)\n",
        "show_hough(h, im)"
      ]
    },
    {
      "cell_type": "code",
      "execution_count": null,
      "metadata": {
        "id": "3la3iWYoqUEm"
      },
      "outputs": [],
      "source": [
        "im = np.zeros((64,64), dtype=np.uint8)\n",
        "\n",
        "for i in range(20, 40):\n",
        "   im[i, i] = 1\n",
        "\n",
        "for i in range(20, 40):\n",
        "   im[i, 40] = 1\n",
        "\n",
        "for i in range(20, 40):\n",
        "   im[40, i] = 1\n",
        "   \n",
        "h, theta, rho = hough_line(im)\n",
        "show_hough(h, im)"
      ]
    },
    {
      "cell_type": "code",
      "execution_count": null,
      "metadata": {
        "id": "0WUEp0CpXzCL"
      },
      "outputs": [],
      "source": [
        "im = np.zeros((64,64), dtype=np.uint8)\n",
        "\n",
        "np.random.seed(0)\n",
        "array_size = (50, 2)\n",
        "points = np.random.randint(0, 64, array_size)\n",
        "for point in points:\n",
        "    im[point[0], point[1]] = 1\n",
        "\n",
        "H, theta, rho = hough_line(im)\n",
        "\n",
        "show_hough(H, im)"
      ]
    },
    {
      "cell_type": "markdown",
      "metadata": {
        "id": "hv1mwAapOq06"
      },
      "source": [
        "### Transformata Hougha dla pojedynczego obiektu\n",
        "\n",
        "W tym podpunkcie pokazane zostanie praktycznie wykorzystanie transformaty Hougha - do detekcji prostych na sztucznym rysunku.\n",
        "\n",
        "   1. Wczytaj obraz \"kwadraty.png\". Wyświetl go.\n",
        "   2. Wykonaj detekcję krawędzi jedną z metod gradientowych. Ważne aby obraz krawędzi był jak najlepszej jakości - co oznacza cienkie (nawet niekoniecznie ciągłe) krawędzie - dla tego przypadku nie powinno być trudne do uzyskania. Wyświetl obraz po detekcji krawędzi.\n",
        "   3. Wykonaj transformatę Hougha obrazu krawędziowego. Wykorzystaj funkcję *hough\\_line*.\n",
        "   4. Wyświetl macierz H. Czy widoczna jest taka liczba maksimów jakiej się spodziewamy?"
      ]
    },
    {
      "cell_type": "code",
      "execution_count": null,
      "metadata": {
        "id": "8FzB6xW0Oq07"
      },
      "outputs": [],
      "source": [
        "#1\n",
        "kwadraty = cv2.imread('kwadraty.png', cv2.IMREAD_GRAYSCALE)\n",
        "plt.imshow(kwadraty, 'gray')\n",
        "plt.axis('off')\n",
        "plt.show()\n",
        "\n",
        "#2\n",
        "kwadraty_grad = cv2.Canny(kwadraty, 50, 150)\n",
        "plt.imshow(kwadraty_grad, 'gray')\n",
        "plt.axis('off')\n",
        "plt.show()"
      ]
    },
    {
      "cell_type": "code",
      "execution_count": null,
      "metadata": {
        "id": "MucU5bOQthCy"
      },
      "outputs": [],
      "source": [
        "#3\n",
        "H, theta, rho = hough_line(kwadraty_grad)\n",
        "\n",
        "#4\n",
        "show_hough(H, kwadraty_grad)"
      ]
    },
    {
      "cell_type": "markdown",
      "metadata": {
        "id": "mBUa5CfQOq07"
      },
      "source": [
        " 5. W module skimage.transform dostępna jest funkcja do automatycznej analizy przestrzeni Hougha - wyszukiwania maksimów - *hough\\_line\\_peaks*. Jako parametry przyjmuje ona wyniki funkcji *hough\\_line* (macierz H, theta i rho). Dodatkowo można podać próg powyżej którego punkt uznawany jest za maksimum (_threshold_ - domyslnie jest to połowa maksimum w przestrzeni H) oraz liczbę poszukiwanych maksimów (*num_peaks*). Funkcja zwraca współrzędne maksimów. Wykorzystaj funkcję *hough\\_line\\_peaks* do znalezienia maksimów odpowiadających krawędziom kwadratów.\n",
        " 6. Wyświetl macierz H używając konstrukcji:"
      ]
    },
    {
      "cell_type": "code",
      "execution_count": null,
      "metadata": {
        "id": "mohQ0UP8Oq08"
      },
      "outputs": [],
      "source": [
        "#5\n",
        "accumulated, theta_peaks, rho_peaks = hough_line_peaks(H, theta, rho)\n",
        "print(\"theta_peaks: \", theta_peaks)\n",
        "print(\"rho_peaks: \", rho_peaks)\n",
        "print(\"accumulated: \", accumulated)"
      ]
    },
    {
      "cell_type": "markdown",
      "metadata": {
        "id": "J20SEWgMOq08"
      },
      "source": [
        "Taki zapis pozwoli na dołożenie annotacji (okręgów) w miejscach znalezionych maksimów. Wyrysowanie okręgu w punkcie x, y (o rozmiarze 10, w czerwonym kolorze, bez wypełnienia środka) realizuje wywołanie:\n",
        "\n",
        "**circle = plt.Circle((x, y), 10, color='r', fill=False)**\n",
        "\n",
        "natomiast dołożenie takiego okręgu do obrazu to:\n",
        "\n",
        "**ax.add_patch(circle)**\n",
        "\n",
        "Zaznacz maksima na obrazie wykorzystując rezultat funkcji *hough\\_line\\_peaks* biorąc pod uwagę, że zwraca ona kąty w radianach z przedziału od -pi/2 do pi/2, a rho z przedziału od -r/2 do r/2 gdzie r to pionowy rozmiar przestrzeni Hougha."
      ]
    },
    {
      "cell_type": "code",
      "execution_count": null,
      "metadata": {
        "id": "1_AYKJTtOq09"
      },
      "outputs": [],
      "source": [
        "#6\n",
        "fig,ax = plt.subplots(1)\n",
        "ax.set_aspect('equal')\n",
        "ax.imshow(H, 'gray')\n",
        "\n",
        "for angle, dist in zip(theta_peaks, rho_peaks):\n",
        "    angle_rescaled = (angle + np.pi / 2) / np.pi * H.shape[1]  # angle is in [-pi/2, pi/2]\n",
        "    dist_rescaled = (dist + rho.max()) / (2 * rho.max()) * H.shape[0] # dist is in [-rho_max, rho_max]\n",
        "    circle = plt.Circle((angle_rescaled, dist_rescaled), 10, color='r', fill=False)\n",
        "    ax.add_patch(circle)\n",
        "\n",
        "plt.show()"
      ]
    },
    {
      "cell_type": "markdown",
      "metadata": {
        "id": "5awN1yLIOq09"
      },
      "source": [
        "7. Istnieje też możliwość przeprowadzenia transformacji Hougha z użyciem biblioteki OpenCV. W bibliotece znajdują się dwie wersje funkcji wyszukującej linie proste - 'klasyczna' - _HoughLines_ oraz probabilistyczna _HoughLinesP_. Zadna z nich nie zwraca przestrzeni Hougha. Wynikiem działania pierwszej jest lista parametrów prostych (krotki zawierające rho, theta). Druga zwraca krotki 4-ro elementowe ze współrzędnymi końców odcinków wykorzystanych do wylicznia parametrów (czyli znalezienia prostej).\n",
        "8. Wyznacz linie obecne na obrazie za pomocą funkcji _HoughLines_. Wykryte linie wyrysuj na obrazie początkowym (UWAGA: wczytanym bez konwersji na graylevel). Do wyświetlania linii wykorzystaj przykładowy kod:"
      ]
    },
    {
      "cell_type": "code",
      "execution_count": null,
      "metadata": {
        "id": "wUVjveKZOq0-"
      },
      "outputs": [],
      "source": [
        "#7\n",
        "h_lines = cv2.HoughLines(kwadraty_grad, 1, np.pi/180, 60)\n",
        "\n",
        "#8\n",
        "kwadratyNoGray = cv2.imread('kwadraty.png')\n",
        "\n",
        "for line in h_lines:\n",
        "      rho, theta = line[0]\n",
        "      a = np.cos(theta)\n",
        "      b = np.sin(theta)\n",
        "      x0 = a*rho\n",
        "      y0 = b*rho\n",
        "      x1 = int(x0 + 1000*(-b))\n",
        "      y1 = int(y0 + 1000*(a))\n",
        "      x2 = int(x0 - 1000*(-b))\n",
        "      y2 = int(y0 - 1000*(a))\n",
        "      cv2.line(kwadratyNoGray,(x1,y1),(x2,y2),(0,0,255),2)\n",
        "\n",
        "plt.imshow(kwadratyNoGray)\n",
        "plt.axis('off')\n",
        "plt.show()"
      ]
    },
    {
      "cell_type": "markdown",
      "metadata": {
        "id": "-szM7M6KOq0-"
      },
      "source": [
        "9. Wyznacz odcinki obecne na obrazie za pomocą funkcji _HoughLinesP_. Wykryte odcinki wyrysuj na obrazie początkowym (UWAGA: wczytanym bez konwersji na graylevel)."
      ]
    },
    {
      "cell_type": "code",
      "execution_count": null,
      "metadata": {
        "id": "QsFUk7J_Oq0_"
      },
      "outputs": [],
      "source": [
        "#9\n",
        "h_lines_p = cv2.HoughLinesP(kwadraty_grad, 1, np.pi/180, 60, minLineLength=50, maxLineGap=10)\n",
        "\n",
        "for line in h_lines_p:\n",
        "      x1, y1, x2, y2 = line[0]\n",
        "      cv2.line(kwadratyNoGray,(x1,y1),(x2,y2),(0,255,0),2)\n",
        "\n",
        "plt.imshow(kwadratyNoGray)\n",
        "plt.axis('off')\n",
        "plt.show()"
      ]
    },
    {
      "cell_type": "markdown",
      "metadata": {
        "id": "Jvt7TyYQOq0_"
      },
      "source": [
        "### Transformata Hougha dla obrazu rzeczywistego.\n",
        "\n",
        "Bazując na kodzie stworzonym w punkcie B wyszukamy linie na obrazie rzeczywistym.\n",
        "   1. Wczytaj obraz \"lab112.png\". Wyświetl go.\n",
        "   2. Wykorzystując wszystkie poznane techniki przetwarzania obrazów (filtracja, przekształcenia morfologiczne, binaryzację, detekcję krawędzi) wyodrębnij krawędzie samych kwadratów - tak aby były jak najlepszej jakości (cienkie) - jednocześnie eliminując z obrazu zakłócenia.\n",
        "   3. Wykorzystaj funkcje *hough_line* i *hough_line_peaks* do detekcji linii na obrazie, a następnie np. wykorzystując kod z punktu 8 poprzedniego ustępu wyrysuj na oryginalnym obrazie znalezione linie."
      ]
    },
    {
      "cell_type": "code",
      "execution_count": null,
      "metadata": {
        "id": "iaJDJQUQOq0_"
      },
      "outputs": [],
      "source": [
        "#1\n",
        "lab112 = cv2.imread('lab112.png', cv2.IMREAD_GRAYSCALE)\n",
        "plt.imshow(lab112, 'gray')\n",
        "plt.axis('off')\n",
        "plt.show()\n",
        "\n",
        "#2\n",
        "mask = (7, 7)\n",
        "lab112 = cv2.GaussianBlur(lab112, mask, 0)\n",
        "lab112 = cv2.Canny(lab112, 100, 200)\n",
        "plt.imshow(lab112, 'gray')\n",
        "plt.axis('off')\n",
        "plt.show()\n",
        "\n",
        "#3\n",
        "H, theta, rho = hough_line(lab112)\n",
        "accumulated, theta_peaks, rho_peaks = hough_line_peaks(H, theta, rho)\n",
        "\n",
        "lab112_color = cv2.imread('lab112.png')\n",
        "\n",
        "for theta, rho in zip(theta_peaks, rho_peaks):\n",
        "    a = np.cos(theta)\n",
        "    b = np.sin(theta)\n",
        "    x0 = a*rho\n",
        "    y0 = b*rho\n",
        "    x1 = int(x0 + 1000*(-b))\n",
        "    y1 = int(y0 + 1000*(a))\n",
        "    x2 = int(x0 - 1000*(-b))\n",
        "    y2 = int(y0 - 1000*(a))\n",
        "\n",
        "    cv2.line(lab112_color,(x1,y1),(x2,y2),(0,0,255),2)\n",
        "\n",
        "plt.imshow(lab112_color)\n",
        "plt.axis('off')\n",
        "plt.show()"
      ]
    },
    {
      "cell_type": "markdown",
      "metadata": {
        "id": "Xuwcupt9Oq1A"
      },
      "source": [
        "4. Wczytaj obraz \"dom.png\". Wypróbuj działanie transformacji Hougha na tym obrazie z wykorzystaniem funkcji _cv2.HoughLinesP_  (oczywiście po odpowiednich przekształceniach). Postaraj się tak przygotować obraz z krawędziami i dobrać parametry aby wyrysować na oryginalnym obrazie odcinki obejmujące zarysy domu. Weź pod uwage dodatkowe parametry funkcji, takie jak:   minLineLength, maxLineGap."
      ]
    },
    {
      "cell_type": "code",
      "execution_count": null,
      "metadata": {
        "id": "lzuBkoS_Oq1B"
      },
      "outputs": [],
      "source": [
        "#4\n",
        "mask = (5, 5)\n",
        "\n",
        "dom = cv2.imread('dom.png', cv2.IMREAD_GRAYSCALE)\n",
        "dom = cv2.GaussianBlur(dom, mask, 0)\n",
        "dom = cv2.morphologyEx(dom, cv2.MORPH_OPEN, np.ones(mask,np.uint8))\n",
        "dom = cv2.morphologyEx(dom, cv2.MORPH_CLOSE, np.ones(mask,np.uint8))\n",
        "ret, dom = cv2.threshold(dom, 0, 255, cv2.THRESH_BINARY + cv2.THRESH_OTSU)\n",
        "edges = cv2.Canny(dom, 50, 150)\n",
        "plt.imshow(edges, 'gray')\n",
        "plt.axis('off')\n",
        "plt.show()\n",
        "\n",
        "hough_lines_p = cv2.HoughLinesP(edges, 1, np.pi/180, 60, minLineLength=10, maxLineGap=30)\n",
        "\n",
        "domNoGray = cv2.imread('dom.png')\n",
        "\n",
        "for line in hough_lines_p:\n",
        "      x1, y1, x2, y2 = line[0]\n",
        "      cv2.line(domNoGray,(x1,y1),(x2,y2),(0,0,255),2)\n",
        "\n",
        "plt.imshow(domNoGray)\n",
        "plt.axis('off')\n",
        "plt.show()"
      ]
    }
  ],
  "metadata": {
    "celltoolbar": "Raw Cell Format",
    "colab": {
      "provenance": []
    },
    "kernelspec": {
      "display_name": "Python 3",
      "language": "python",
      "name": "python3"
    },
    "language_info": {
      "codemirror_mode": {
        "name": "ipython",
        "version": 3
      },
      "file_extension": ".py",
      "mimetype": "text/x-python",
      "name": "python",
      "nbconvert_exporter": "python",
      "pygments_lexer": "ipython3",
      "version": "3.10.13"
    }
  },
  "nbformat": 4,
  "nbformat_minor": 0
}
