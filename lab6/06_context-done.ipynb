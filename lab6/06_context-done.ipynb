{
  "cells": [
    {
      "cell_type": "markdown",
      "metadata": {
        "id": "PzvFXKTPuTVj"
      },
      "source": [
        "# Przetwarzanie wstępne. Filtracja kontekstowa.\n",
        "\n",
        "\n",
        "### Cel:\n",
        "- zapoznanie z pojęciem kontekstu / filtracji kontekstowej,\n",
        "- zapoznanie z pojęciem konwolucji (splotu),\n",
        "- zapoznanie z wybranymi filtrami:\n",
        "\t- filtry liniowe dolnoprzepustowe:\n",
        "\t\t- filtr uśredniający,\n",
        "\t\t- filtr Gaussa.\n",
        "\t- filtry nielinowe:\n",
        "\t\t- mediana,\n",
        "\t\t- mediana dla obrazów kolorowych.\n",
        "\t- filtry liniowe górnoprzepustowe:\n",
        "\t\t\t- laplasjan,\n",
        "\t\t\t- operator Robersta, Prewitta, Sobela.\n",
        "- zadanie domowe: adaptacyjna filtracja medianowa.\n",
        "\n",
        "### Filtry liniowe uśredniające (dolnoprzepustowe)\n",
        "\n",
        "Jest to podstawowa rodzina filtrów stosowana w cyfrowym przetwarzaniu obrazów.\n",
        "Wykorzystuje się je w celu \"rozmazania\" obrazu i tym samym redukcji szumów (zakłóceń) na obrazie.\n",
        "Filtr określony jest przez dwa parametry: rozmiar maski (ang. _kernel_) oraz wartości współczynników maski.\n",
        "\n",
        "Warto zwrócić uwagę, że omawiane w niniejszym rozdziale operacje generują nową wartość piksela na podstawie pewnego fragmentu obrazu (tj. kontekstu), a nie jak operacje punktowe tylko na podstawie jednego piksela.\n",
        "\n",
        "\n",
        "1. Wczytaj obraz _plansza.png_.\n",
        "W dalszej części ćwiczenia sprawdzenie działania filtracji dla innych obrazów sprowadzi się do wczytania innego pliku.\n",
        "\n",
        "2. Podstawowa funkcja to `cv2.filter2D`  - realizacja filtracji konwolucyjnej.\n",
        "   Proszę sprawdzić jej dokumentację i zwrócić uwagę na obsługę problemu brzegowego (na krawędziach istnieją piksele dla których nie da się wyznaczyć otoczenia).\n",
        "\n",
        "  Uwaga. Problem ten można też rozwiązać z użyciem funkcji `signal.convolve2d` z biblioteki _scipy_ (`from scipy import signal`).\n",
        "\n",
        "3. Stwórz podstawowy filtr uśredniający o rozmiarze $3 \\times 3$ -- za pomocą funkcji `np.ones`. Wykonaj konwolucję na wczytanym obrazie. Na wspólnym rysunku wyświetl obraz oryginalny, po filtracji oraz moduł z różnicy.\n",
        "\n",
        "4. Przeanalizuj otrzymane wyniki. Jakie elementy zawiera obraz \"moduł z różnicy\"? Co na tej podstawie można powiedzieć o filtracji dolnoprzepustowej?"
      ]
    },
    {
      "cell_type": "code",
      "execution_count": null,
      "metadata": {
        "id": "S4Cq3WvAuTVm"
      },
      "outputs": [],
      "source": [
        "import cv2\n",
        "import os\n",
        "import requests\n",
        "from matplotlib import pyplot as plt\n",
        "import numpy as np\n",
        "from scipy import signal\n",
        "\n",
        "url = 'https://raw.githubusercontent.com/vision-agh/poc_sw/master/06_Context/'\n",
        "\n",
        "fileNames = [\"jet.png\", \"kw.png\", \"moon.png\", \"lenaSzum.png\", \"lena.png\", \"plansza.png\"]\n",
        "for fileName in fileNames:\n",
        "  if not os.path.exists(fileName):\n",
        "      r = requests.get(url + fileName, allow_redirects=True)\n",
        "      open(fileName, 'wb').write(r.content)"
      ]
    },
    {
      "cell_type": "code",
      "execution_count": null,
      "metadata": {
        "id": "-2KCAFinAlh-"
      },
      "outputs": [],
      "source": [
        "plansza = cv2.imread(\"plansza.png\", cv2.IMREAD_GRAYSCALE)"
      ]
    },
    {
      "cell_type": "code",
      "execution_count": null,
      "metadata": {
        "colab": {
          "base_uri": "https://localhost:8080/",
          "height": 311
        },
        "id": "I1BfRCQCHSGg",
        "outputId": "8c13b6fa-8b7a-4358-cff0-cb3d92569749"
      },
      "outputs": [],
      "source": [
        "kernel = np.ones((3, 3), np.float32) / 9\n",
        "\n",
        "# Wykonaj konwolucję\n",
        "img_filtered = cv2.filter2D(plansza, -1, kernel)\n",
        "\n",
        "# Oblicz moduł z różnicy\n",
        "img_difference = np.abs(plansza - img_filtered)\n",
        "\n",
        "# Wyświetl obrazy\n",
        "plt.figure(figsize=(10, 7))\n",
        "\n",
        "plt.subplot(131)\n",
        "plt.imshow(plansza, cmap='gray')\n",
        "plt.title('Oryginał')\n",
        "\n",
        "plt.subplot(132)\n",
        "plt.imshow(img_filtered, cmap='gray')\n",
        "plt.title('Filtracja uśredniająca')\n",
        "\n",
        "plt.subplot(133)\n",
        "plt.imshow(img_difference, cmap='gray')\n",
        "plt.title('Moduł z różnicy')\n",
        "\n",
        "plt.show()"
      ]
    },
    {
      "cell_type": "markdown",
      "metadata": {
        "id": "10zj2sOTuTVo"
      },
      "source": [
        "5. Na wspólnym rysunku wyświetl wyniki filtracji uśredniającej z oknem o rozmiarze 3, 5, 9, 15 i 35.\n",
        "Wykorzystaj polecenie `plt.subplot`.\n",
        "Przeanalizuj wpływ rozmiaru maski na wynik."
      ]
    },
    {
      "cell_type": "code",
      "execution_count": null,
      "metadata": {
        "colab": {
          "base_uri": "https://localhost:8080/",
          "height": 604
        },
        "id": "Cmf-hkCruTVo",
        "outputId": "59395063-cf9a-4222-a92b-9082095853ab"
      },
      "outputs": [],
      "source": [
        "sizes = [3, 5, 9, 15, 35]\n",
        "filtered_images = []\n",
        "for size in sizes:\n",
        "  kernel = np.ones((size, size), np.float32) / (size * size)\n",
        "  filtered_img = cv2.filter2D(plansza, -1, kernel)\n",
        "  filtered_images.append(filtered_img)\n",
        "\n",
        "plt.figure(figsize=(10, 7))\n",
        "plt.subplot(231), plt.imshow(plansza, cmap='gray'), plt.title('Original')\n",
        "for i, filtered_img in enumerate(filtered_images):\n",
        "    plt.subplot(232+i), plt.imshow(filtered_img, cmap='gray'),\n",
        "    plt.title('Filtered with kernel size ' + str(sizes[i]))\n",
        "plt.show()"
      ]
    },
    {
      "cell_type": "markdown",
      "metadata": {
        "id": "zHlUB4tZuTVo"
      },
      "source": [
        "6. Wczytaj obraz _lena.png_.\n",
        "Zaobserwuj efekty filtracji dolnoprzepustowej dla obrazu rzeczywistego."
      ]
    },
    {
      "cell_type": "code",
      "execution_count": null,
      "metadata": {
        "colab": {
          "base_uri": "https://localhost:8080/",
          "height": 604
        },
        "id": "Ed9hL_iWuTVp",
        "outputId": "64913c60-3c5a-4b12-f8e1-915cf9f619ce"
      },
      "outputs": [],
      "source": [
        "lena = cv2.imread(\"lena.png\", cv2.IMREAD_GRAYSCALE)\n",
        "\n",
        "sizes = [3, 5, 9, 15, 35]\n",
        "filtered_images = []\n",
        "for size in sizes:\n",
        "  kernel = np.ones((size, size), np.float32) / (size * size)\n",
        "  filtered_img = cv2.filter2D(lena, -1, kernel)\n",
        "  filtered_images.append(filtered_img)\n",
        "\n",
        "plt.figure(figsize=(10, 7))\n",
        "plt.subplot(231), plt.imshow(lena, cmap='gray'), plt.title('Original')\n",
        "for i, filtered_img in enumerate(filtered_images):\n",
        "    plt.subplot(232+i), plt.imshow(filtered_img, cmap='gray'),\n",
        "    plt.title('Filtered with kernel size ' + str(sizes[i]))\n",
        "plt.show()"
      ]
    },
    {
      "cell_type": "markdown",
      "metadata": {
        "id": "t-2FnMuvuTVp"
      },
      "source": [
        "7. Niekorzystny efekt towarzyszący wykonanym filtracjom dolnoprzepustowym to utrata ostrości.\n",
        "Częściowo można go zniwelować poprzez odpowiedni dobór maski.\n",
        "Wykorzystaj maskę:  `M = np.array([1 2 1; 2 4 2; 1 2 1])`.\n",
        "Przed obliczeniami należy jeszcze wykonać normalizację - podzielić każdy element maski przez sumę wszystkich elementów: `M = M/sum(sum(M));`.\n",
        "Tak przygotowaną maskę wykorzystaj w konwolucji - wyświetl wyniki tak jak wcześniej.\n",
        "Możliwe jest też wykorzystywanie innych masek - współczynniki można dopasowywać do konkretnego problemu."
      ]
    },
    {
      "cell_type": "code",
      "execution_count": null,
      "metadata": {
        "colab": {
          "base_uri": "https://localhost:8080/",
          "height": 435
        },
        "id": "9-wJsEWcuTVp",
        "outputId": "782eee05-e1f7-4c08-ef24-ca48af142fed"
      },
      "outputs": [],
      "source": [
        "# Stworzenie i normalizacja maski\n",
        "M = np.array([[1, 2, 1], [2, 4, 2], [1, 2, 1]])\n",
        "# M = M / np.sum(M)\n",
        "M = M / sum(sum(M))\n",
        "\n",
        "# Filtracja obrazu\n",
        "filtered_img_M = cv2.filter2D(lena, -1, M)\n",
        "\n",
        "# Wyświetlenie obrazów\n",
        "plt.figure(figsize=(10, 7))\n",
        "plt.subplot(121), plt.imshow(lena, cmap='gray'), plt.title('Original')\n",
        "plt.subplot(122), plt.imshow(filtered_img_M, cmap='gray'), plt.title('Filtered with M mask')\n",
        "plt.show()"
      ]
    },
    {
      "cell_type": "markdown",
      "metadata": {
        "id": "ybfc6TZCuTVq"
      },
      "source": [
        "8. Skuteczną i często wykorzystywaną maską jest tzw. maska Gasussa.\n",
        "Jest to zbiór liczb, które aproksymują dwuwymiarowy rozkład Gaussa.\n",
        "Parametrem jest odchylenie standardowe i rozmiar maski.\n",
        "\n",
        "9. Wykorzystując przygotowaną funkcję `fgaussian` stwórz maskę o rozmiarze $5 \\times 5$ i odchyleniu standardowym 0.5.\n",
        "  Wykorzystując funkcję `mesh` zwizualizuj filtr.\n",
        "  Sprawdź jak parametr ``odchylenie standardowe'' wpływa na ``kształt'' filtru.\n",
        "\n",
        "  Uwaga. W OpenCV dostępna jest *dedykowana* funkcja do filtracji Gaussa - `GaussianBlur`.\n",
        "  Proszę na jednym przykładzie porównać jej działanie z użytym wyżej rozwiązaniem.\n",
        "\n",
        "10. Wykonaj filtrację dla wybranych (2--3) wartości odchylenia standardowego.\n"
      ]
    },
    {
      "cell_type": "code",
      "execution_count": null,
      "metadata": {
        "id": "ZUTDX8IluTVq",
        "scrolled": true
      },
      "outputs": [],
      "source": [
        "def fgaussian(size, sigma):\n",
        "     m = n = size\n",
        "     h, k = m//2, n//2\n",
        "     x, y = np.mgrid[-h:h+1, -k:k+1]\n",
        "     g = np.exp(-(x**2 + y**2)/(2*sigma**2))\n",
        "     return g /g.sum()\n",
        "\n",
        "\n",
        "def mesh(fun, size):\n",
        "    fig = plt.figure()\n",
        "    ax = fig.add_subplot(projection = '3d')\n",
        "\n",
        "\n",
        "    X = np.arange(-size//2, size//2, 1)\n",
        "    Y = np.arange(-size//2, size//2, 1)\n",
        "    X, Y = np.meshgrid(X, Y)\n",
        "    Z = fun\n",
        "\n",
        "    ax.plot_surface(X, Y, Z)\n",
        "\n",
        "    plt.show()"
      ]
    },
    {
      "cell_type": "code",
      "execution_count": null,
      "metadata": {
        "colab": {
          "base_uri": "https://localhost:8080/",
          "height": 708
        },
        "id": "C5oTSPK7K2se",
        "outputId": "bde39c90-eae7-4589-c905-1ddb8655b8ac"
      },
      "outputs": [],
      "source": [
        "size = 5\n",
        "sigma = 0.5\n",
        "gaussian_mask = fgaussian(size, sigma)\n",
        "mesh(gaussian_mask, size)\n",
        "\n",
        "# Filtracja obrazu\n",
        "filtered_img_gaussian = cv2.filter2D(lena,-1,gaussian_mask)\n",
        "blurred_img = cv2.GaussianBlur(lena, (size, size), sigma)\n",
        "\n",
        "# Wyświetlenie obrazów\n",
        "plt.figure(figsize=(10, 7))\n",
        "plt.subplot(131), plt.imshow(lena, cmap='gray'), plt.title('Original')\n",
        "plt.subplot(132), plt.imshow(filtered_img_gaussian, cmap='gray'), plt.title('Filtered with Gaussian mask')\n",
        "plt.subplot(133), plt.imshow(blurred_img, cmap='gray'), plt.title('Gaussian Blur')\n",
        "plt.show()"
      ]
    },
    {
      "cell_type": "markdown",
      "metadata": {
        "id": "bkN2AOHruTVr"
      },
      "source": [
        "### Filtry nieliniowe -- mediana\n",
        "\n",
        "Filtry rozmywające redukują szum, ale niekorzystnie wpływają na ostrość obrazu.\n",
        "Dlatego często wykorzystuje się filtry nieliniowe - np. filtr medianowy (dla przypomnienia: mediana - środkowa wartość w posortowanym ciągu liczb).\n",
        "\n",
        "Podstawowa różnica pomiędzy filtrami liniowymi, a nieliniowymi polega na tym, że przy filtracji liniowej na nową wartość piksela ma wpływ wartość wszystkich pikseli z otoczenia (np. uśrednianie, czasem ważone), natomiast w przypadku filtracji nieliniowej jako nowy piksel wybierana jest któraś z wartości otoczenia - według jakiegoś wskaźnika (wartość największa, najmniejsza czy właśnie mediana).\n",
        "\n",
        "\n",
        "1. Wczytaj obraz _lenaSzum.png_ (losowe 10% pikseli białych lub czarnych - tzw. zakłócenia impulsowe). Przeprowadź filtrację uśredniającą z rozmiarem maski 3x3. Wyświetl, podobnie jak wcześniej, oryginał, wynik filtracji i moduł z różnicy. Wykorzystując funkcję ``cv2.medianBlur` wykonaj filtrację medianową _lenaSzum.png_ (z rozmiarem maski $3 \\times 3$). Wyświetl, podobnie jak wcześniej, oryginał, wynik filtracji i moduł z różnicy. Która filtracja lepiej radzi sobie z tego typu szumem?\n",
        "\n",
        "  Uwaga. Taki sam efekt da również użycie funkcji `signal.medfilt2d`.\n"
      ]
    },
    {
      "cell_type": "code",
      "execution_count": null,
      "metadata": {
        "id": "_ICkvyp3uTVr"
      },
      "outputs": [],
      "source": [
        "lena_szum = cv2.imread(\"lenaSzum.png\", cv2.IMREAD_GRAYSCALE)"
      ]
    },
    {
      "cell_type": "code",
      "execution_count": null,
      "metadata": {
        "colab": {
          "base_uri": "https://localhost:8080/",
          "height": 603
        },
        "id": "g31PANBSL-b1",
        "outputId": "db34da7e-e403-4734-fa6d-b1c4edf45dd8"
      },
      "outputs": [],
      "source": [
        "blur = cv2.blur(lena_szum, (3, 3))\n",
        "plt.figure(figsize=(10, 7))\n",
        "plt.subplot(131), plt.imshow(lena_szum, cmap='gray'), plt.title('Original')\n",
        "plt.subplot(132), plt.imshow(blur, cmap='gray'), plt.title('Blurred')\n",
        "plt.subplot(133), plt.imshow(cv2.absdiff(lena_szum, blur), cmap='gray'), plt.title('Difference')\n",
        "plt.show()\n",
        "\n",
        "median = cv2.medianBlur(lena_szum, 3)\n",
        "plt.figure(figsize=(10, 7))\n",
        "plt.subplot(131), plt.imshow(lena_szum, cmap='gray'), plt.title('Original')\n",
        "plt.subplot(132), plt.imshow(median, cmap='gray'), plt.title('Median')\n",
        "plt.subplot(133), plt.imshow(cv2.absdiff(lena_szum, median), cmap='gray'), plt.title('Difference')\n",
        "plt.show()"
      ]
    },
    {
      "cell_type": "markdown",
      "metadata": {
        "id": "iSdorMgxuTVr"
      },
      "source": [
        "2. Przeprowadź filtrację uśredniającą, a następnie medianową obrazu _lena.png_.\n",
        "   Wyniki porównaj - dla obu wyświetl: oryginał, wynik filtracji i moduł z różnicy.\n",
        "   Szczególną uwagę zwróć na ostrość i krawędzie.\n",
        "   W której filtracji krawędzie zostają lepiej zachowane?"
      ]
    },
    {
      "cell_type": "code",
      "execution_count": null,
      "metadata": {
        "colab": {
          "base_uri": "https://localhost:8080/",
          "height": 603
        },
        "id": "_g2nnTPruTVs",
        "outputId": "ae884f06-1eb8-4d0c-a3d5-dcfe688c3f05"
      },
      "outputs": [],
      "source": [
        "blur = cv2.blur(lena, (3, 3))\n",
        "plt.figure(figsize=(10, 7))\n",
        "plt.subplot(131), plt.imshow(lena, cmap='gray'), plt.title('Original')\n",
        "plt.subplot(132), plt.imshow(blur, cmap='gray'), plt.title('Blurred')\n",
        "plt.subplot(133), plt.imshow(cv2.absdiff(lena, blur), cmap='gray'), plt.title('Difference')\n",
        "plt.show()\n",
        "\n",
        "median = cv2.medianBlur(lena, 3)\n",
        "plt.figure(figsize=(10, 7))\n",
        "plt.subplot(131), plt.imshow(lena, cmap='gray'), plt.title('Original')\n",
        "plt.subplot(132), plt.imshow(median, cmap='gray'), plt.title('Median')\n",
        "plt.subplot(133), plt.imshow(cv2.absdiff(lena, median), cmap='gray'), plt.title('Difference')\n",
        "plt.show()"
      ]
    },
    {
      "cell_type": "markdown",
      "metadata": {
        "id": "OOMWoBCJuTVs"
      },
      "source": [
        "3. Ciekawy efekt można uzyskać wykonując filtrację medianową wielokrotnie. Określa się go mianem  posteryzacji.  W wyniku przetwarzania z obrazka usunięte zostają detale, a duże obszary uzyskują tą samą wartość jasności.  Wykonaj operację mediany $5 \\times 5$ na obrazie _lena.png_ 10-krotnie. (wykorzystaj np. pętlę `for`).\n",
        "\n",
        "\n",
        "Inne filtry nieliniowe:\n",
        "- filtr modowy - moda (dominanta) zamiast mediany,\n",
        "- filtr olimpijski - średnia z podzbioru otoczenia (bez wartości ekstremalnych),\n",
        "- hybrydowy filtr medianowy - mediana obliczana osobno w różnych podzbiorach otoczenia (np. kształt ``x'',``+''), a jako wynik brana jest mediana ze zbioru wartość elementu centralnego, mediana z ``x'' i mediana z ``+'',\n",
        "- filtr minimalny i maksymalny (będą omówione przy okazji operacji morfologicznych w dalszej części kursu).\n",
        "\n",
        "\n",
        "Warto zdawać sobie sprawę, z szerokich możliwości dopasowywania rodzaju filtracji do konkretnego rozważanego problemu i rodzaju zaszumienia występującego na obrazie."
      ]
    },
    {
      "cell_type": "code",
      "execution_count": null,
      "metadata": {
        "colab": {
          "base_uri": "https://localhost:8080/",
          "height": 310
        },
        "id": "KSFMyFBluTVt",
        "outputId": "e5185c77-765b-4175-f3c7-04540577937f"
      },
      "outputs": [],
      "source": [
        "lena2 = cv2.imread(\"lena.png\", cv2.IMREAD_GRAYSCALE)\n",
        "for _ in range(10):\n",
        "  lena2 = cv2.medianBlur(lena2, 5)\n",
        "\n",
        "plt.figure(figsize=(10, 7))\n",
        "plt.subplot(131), plt.imshow(lena, cmap='gray'), plt.title('Original')\n",
        "plt.subplot(132), plt.imshow(lena2, cmap='gray'), plt.title('Median')\n",
        "plt.subplot(133), plt.imshow(cv2.absdiff(lena, lena2), cmap='gray'), plt.title('Difference')\n",
        "plt.show()"
      ]
    },
    {
      "cell_type": "markdown",
      "metadata": {
        "id": "qPKUMojBuTVt"
      },
      "source": [
        "## Filtry liniowe górnoprzepustowe (wyostrzające, wykrywające krawędzie)\n",
        "\n",
        "Zadaniem filtrów górnoprzepustowych jest wydobywanie z obrazu składników odpowiedzialnych za szybkie zmiany jasności - konturów, krawędzi, drobnych elementów tekstury.\n",
        "\n",
        "### Laplasjan (wykorzystanie drugiej pochodnej obrazu)\n",
        "\n",
        "1. Wczytaj obraz _moon.png_.\n",
        "\n",
        "2. Wprowadź podstawową maskę laplasjanu:\n",
        "\\begin{equation}\n",
        "M =\n",
        "\\begin{bmatrix}\n",
        "0 & 1& 0 \\\\ 1 & -4 & 1 \\\\ 0 & 1 & 0\n",
        "\\end{bmatrix}\n",
        "\\end{equation}\n",
        "\n",
        "3. Przed rozpoczęciem obliczeń należy dokonać normalizacji maski - dla rozmiaru $3 \\times 3$ podzielić każdy element przez 9.\n",
        "   Proszę zwrócić uwagę, że nie można tu zastosować takiej samej normalizacji, jak dla filtrów dolnoprzepustowanych, gdyż skutkowałby to dzieleniem przez 0.\n",
        "\n",
        "4. Wykonaj konwolucję obrazu z maską (`c2.filter2D`). Przed wyświetleniem, wynikowy obraz należy poddać normalizacji (występują ujemne wartości). Najczęściej wykonuje się jedną z dwóch operacji:\n",
        "- skalowanie (np. poprzez dodatnie 128 do każdego z pikseli),\n",
        "- moduł (wartość bezwzględna).\n",
        "\n",
        "Wykonaj obie normalizacje.\n",
        "Na wspólnym wykresie wyświetl obraz oryginalny oraz przefiltrowany po obu normalizacjach."
      ]
    },
    {
      "cell_type": "code",
      "execution_count": null,
      "metadata": {
        "colab": {
          "base_uri": "https://localhost:8080/",
          "height": 347
        },
        "id": "iDE-NzUzuTVt",
        "outputId": "4eb7cab4-f7fc-407c-bbac-43c183b97057"
      },
      "outputs": [],
      "source": [
        "moon = cv2.imread(\"moon.png\", cv2.IMREAD_GRAYSCALE)\n",
        "laplacian = np.array([[0, 1, 0], [1, -4, 1], [0, 1, 0]])\n",
        "laplacian = laplacian / 9\n",
        "moon_filtered = cv2.filter2D(moon, -1, laplacian)\n",
        "moon_scaled = moon_filtered + 128\n",
        "moon_abs = np.abs(moon_filtered)\n",
        "\n",
        "plt.figure(figsize=(10, 7))\n",
        "plt.subplot(131), plt.imshow(moon, cmap='gray'), plt.title('Original')\n",
        "plt.subplot(132), plt.imshow(moon_scaled, cmap='gray'), plt.title('Scaled')\n",
        "plt.subplot(133), plt.imshow(moon_abs, cmap='gray'), plt.title('Absolute')\n",
        "plt.show()"
      ]
    },
    {
      "cell_type": "markdown",
      "metadata": {
        "id": "jNAsSrd-uTVu"
      },
      "source": [
        "7. Efekt wyostrzenia uzyskuje się po odjęciu/dodaniu (zależy do maski) rezultatu filtracji laplasjanowej i oryginalnego obrazu. Wyświetl na jednym wykresie: obraz oryginalny, sumę oryginału i wyniku filtracji oraz różnicę (bezwzględną) oryginału i wyniku filtracji.\n",
        " Uwaga. Aby uniknąć artefaktów, należy obraz wejściowy przekonwertować do formatu ze znakiem.\n",
        "\n"
      ]
    },
    {
      "cell_type": "code",
      "execution_count": null,
      "metadata": {
        "colab": {
          "base_uri": "https://localhost:8080/",
          "height": 347
        },
        "id": "q2-IHdLjuTVu",
        "outputId": "9c70d377-f905-4d03-bed3-06a4dc1bda0e"
      },
      "outputs": [],
      "source": [
        "moon_int = moon.astype(np.int16)\n",
        "moon_sum = moon_int + moon_filtered\n",
        "moon_diff = np.abs(moon_int - moon_filtered)\n",
        "\n",
        "plt.figure(figsize=(10, 7))\n",
        "plt.subplot(131), plt.imshow(moon_int, cmap='gray'), plt.title('Original')\n",
        "plt.subplot(132), plt.imshow(moon_sum, cmap='gray'), plt.title('Sum')\n",
        "plt.subplot(133), plt.imshow(moon_diff, cmap='gray'), plt.title('Difference')\n",
        "plt.show()"
      ]
    },
    {
      "cell_type": "markdown",
      "metadata": {
        "id": "s7UEkpUFuTVu"
      },
      "source": [
        "### Gradienty (wykorzystanie pierwszej pochodnej obrazu)\n",
        "\n",
        "1. Wczytaj obraz _kw.png_. Stwórz odpowiednie maski opisane w kolejnych punktach i dokonaj filtracji.\n",
        "2. Wykorzystując gradient Robertsa przeprowadź detekcję krawędzi - poprzez wykonanie konwolucji obrazu z daną maską:\n",
        "\\begin{equation}\n",
        "R1 = \\begin{bmatrix} 0 & 0 & 0 \\\\ -1 & 0 & 0 \\\\ 0 & 1 & 0 \\end{bmatrix}   \n",
        "R2 = \\begin{bmatrix} 0 & 0 & 0 \\\\ 0 & 0 & -1 \\\\ 0 & 1 & 0 \\end{bmatrix}\n",
        "\\end{equation}\n",
        "\n",
        "Wykorzystaj stworzony wcześniej kod (przy laplasjanie) - dwie metody normalizacji oraz sposób wyświetlania.\n",
        "\n",
        "3. Analogicznie przeprowadź detekcję krawędzi za pomocą gradientu Prewitta (pionowy i poziomy)\n",
        "\\begin{equation}\n",
        "P1 = \\begin{bmatrix} -1 & 0 & 1 \\\\ -1 & 0 & 1 \\\\ -1 & 0 & 1 \\end{bmatrix}   \n",
        "P2 = \\begin{bmatrix} -1 & -1 & -1 \\\\ 0 & 0 & 0 \\\\ 1 & 1 & 1 \\end{bmatrix}\n",
        "\\end{equation}\n",
        "\n",
        "4. Podobnie skonstruowany jest gradient Sobela (występuje osiem masek, zaprezentowane są dwie ``prostopadłe''):\n",
        "\\begin{equation}\n",
        "S1 = \\begin{bmatrix} -1 & 0 & 1 \\\\ -2 & 0 & 2 \\\\ -1 & 0 & 1 \\end{bmatrix}   \n",
        "S2 = \\begin{bmatrix} -1 & -2 & -1 \\\\ 0 & 0 & 0 \\\\ 1 & 2 & 1 \\end{bmatrix}\n",
        "\\end{equation}\n",
        "\n",
        "Przeprowadź detekcję krawędzi za pomocą gradientu Sobela."
      ]
    },
    {
      "cell_type": "code",
      "execution_count": null,
      "metadata": {
        "colab": {
          "base_uri": "https://localhost:8080/",
          "height": 233
        },
        "id": "BhwEYhsZuTVv",
        "outputId": "2ea7d03a-84ed-487b-b91d-d0a793617abf",
        "scrolled": true
      },
      "outputs": [],
      "source": [
        "kw = cv2.imread('kw.png', cv2.IMREAD_GRAYSCALE)\n",
        "R1 = np.array([[0, 0, 0], [-1, 0, 0], [0, 1, 0]])\n",
        "R2 = np.array([[0, 0, 0], [0, 0, -1], [0, 1, 0]])\n",
        "\n",
        "kw_filtered_1 = cv2.filter2D(kw, -1, R1)\n",
        "kw_filtered_2 = cv2.filter2D(kw, -1, R2)\n",
        "\n",
        "kw_scaled_1 = kw_filtered_1 + 128\n",
        "kw_abs_1 = np.abs(kw_filtered_1)\n",
        "\n",
        "kw_scaled_2 = kw_filtered_2 + 128\n",
        "kw_abs_2= np.abs(kw_filtered_2)\n",
        "\n",
        "plt.figure(figsize=(13, 7))\n",
        "plt.subplot(151), plt.imshow(kw, cmap='gray'), plt.title('Original'), plt.axis('off')\n",
        "plt.subplot(152), plt.imshow(kw_scaled_1, cmap='gray'), plt.title('R1 Scaled'), plt.axis('off')\n",
        "plt.subplot(153), plt.imshow(kw_abs_1, cmap='gray'), plt.title('R1 Absolute'), plt.axis('off')\n",
        "plt.subplot(154), plt.imshow(kw_scaled_2, cmap='gray'), plt.title('R2 Scaled'), plt.axis('off')\n",
        "plt.subplot(155), plt.imshow(kw_abs_2, cmap='gray'), plt.title('R2 Absolute'), plt.axis('off')\n",
        "plt.show()"
      ]
    },
    {
      "cell_type": "code",
      "execution_count": null,
      "metadata": {
        "colab": {
          "base_uri": "https://localhost:8080/",
          "height": 233
        },
        "id": "zHWrIURDSAlv",
        "outputId": "1705c90a-38eb-4f62-af8c-a0b866fbd3e6"
      },
      "outputs": [],
      "source": [
        "P1 = np.array([[-1, 0, 1], [-1, 0, 1], [-1, 0, 1]])\n",
        "P2 = np.array([[-1, -1, -1], [0, 0, 0], [1, 1, 1]])\n",
        "\n",
        "kw_filtered_1 = cv2.filter2D(kw, -1, P1)\n",
        "kw_filtered_2 = cv2.filter2D(kw, -1, P2)\n",
        "\n",
        "kw_scaled_1 = kw_filtered_1 + 128\n",
        "kw_abs_1 = np.abs(kw_filtered_1)\n",
        "\n",
        "kw_scaled_2 = kw_filtered_2 + 128\n",
        "kw_abs_2= np.abs(kw_filtered_2)\n",
        "\n",
        "plt.figure(figsize=(13, 7))\n",
        "plt.subplot(151), plt.imshow(kw, cmap='gray'), plt.title('Original'), plt.axis('off')\n",
        "plt.subplot(152), plt.imshow(kw_scaled_1, cmap='gray'), plt.title('R1 Scaled'), plt.axis('off')\n",
        "plt.subplot(153), plt.imshow(kw_abs_1, cmap='gray'), plt.title('R1 Absolute'), plt.axis('off')\n",
        "plt.subplot(154), plt.imshow(kw_scaled_2, cmap='gray'), plt.title('R2 Scaled'), plt.axis('off')\n",
        "plt.subplot(155), plt.imshow(kw_abs_2, cmap='gray'), plt.title('R2 Absolute'), plt.axis('off')\n",
        "plt.show()"
      ]
    },
    {
      "cell_type": "code",
      "execution_count": null,
      "metadata": {
        "colab": {
          "base_uri": "https://localhost:8080/",
          "height": 233
        },
        "id": "olCE72pfS_Tm",
        "outputId": "925a1126-c7b8-4318-88cf-e4ff4e66fd17"
      },
      "outputs": [],
      "source": [
        "S1 = np.array([[-1, 0, 1], [-2, 0, 2], [-1, 0, 1]])\n",
        "S2 = np.array([[-1, -2, -1], [0, 0, 0], [1, 2, 1]])\n",
        "\n",
        "kw_filtered_1 = cv2.filter2D(kw, -1, S1)\n",
        "kw_filtered_2 = cv2.filter2D(kw, -1, S2)\n",
        "\n",
        "kw_scaled_1 = kw_filtered_1 + 128\n",
        "kw_abs_1 = np.abs(kw_filtered_1)\n",
        "\n",
        "kw_scaled_2 = kw_filtered_2 + 128\n",
        "kw_abs_2= np.abs(kw_filtered_2)\n",
        "\n",
        "plt.figure(figsize=(13, 7))\n",
        "plt.subplot(151), plt.imshow(kw, cmap='gray'), plt.title('Original'), plt.axis('off')\n",
        "plt.subplot(152), plt.imshow(kw_scaled_1, cmap='gray'), plt.title('R1 Scaled'), plt.axis('off')\n",
        "plt.subplot(153), plt.imshow(kw_abs_1, cmap='gray'), plt.title('R1 Absolute'), plt.axis('off')\n",
        "plt.subplot(154), plt.imshow(kw_scaled_2, cmap='gray'), plt.title('R2 Scaled'), plt.axis('off')\n",
        "plt.subplot(155), plt.imshow(kw_abs_2, cmap='gray'), plt.title('R2 Absolute'), plt.axis('off')\n",
        "plt.show()"
      ]
    },
    {
      "cell_type": "markdown",
      "metadata": {
        "id": "56RoscNzuTVv"
      },
      "source": [
        "5. Na podstawie dwóch ortogonalnych masek np. Sobela można stworzyć tzw. filtr kombinowany - pierwiastek kwadratowy z sumy kwadratów gradientów:\n",
        "\\begin{equation}\n",
        "OW = \\sqrt{(O * S1)^2 + (O * S2)^2}\n",
        "\\end{equation}\n",
        "gdzie:  $OW$ - obraz wyjściowy, $O$ - obraz oryginalny (wejściowy), $S1,S2$ - maski Sobela, $*$ - operacja konwolucji.\n",
        "\n",
        "Zaimplementuj filtr kombinowany.\n",
        "\n",
        "Uwaga. Proszę zwrócić uwagę na konieczność zmiany formatu danych obrazu wejściowego - na typ znakiem\n",
        "\n"
      ]
    },
    {
      "cell_type": "code",
      "execution_count": null,
      "metadata": {
        "colab": {
          "base_uri": "https://localhost:8080/",
          "height": 378
        },
        "id": "pobro8ZkuTVv",
        "outputId": "7e69206b-e6e0-4506-aa71-fc9807b75411"
      },
      "outputs": [],
      "source": [
        "kw_int = kw.astype(np.int16)\n",
        "\n",
        "S1 = np.array([[-1, 0, 1], [-2, 0, 2], [-1, 0, 1]])\n",
        "S2 = np.array([[-1, -2, -1], [0, 0, 0], [1, 2, 1]])\n",
        "\n",
        "kw_filtered_1 = cv2.filter2D(kw_int, -1, S1)\n",
        "kw_filtered_2 = cv2.filter2D(kw_int, -1, S2)\n",
        "\n",
        "kw_combined = np.sqrt((kw_filtered_1 ** 2) + (kw_filtered_2 ** 2))\n",
        "\n",
        "plt.figure(figsize=(8, 7))\n",
        "plt.subplot(121), plt.imshow(kw_int, cmap='gray'), plt.title('Original'), plt.axis('off')\n",
        "plt.subplot(122), plt.imshow(kw_combined, cmap='gray'), plt.title('Combined Filter'), plt.axis('off')\n",
        "plt.show()"
      ]
    },
    {
      "cell_type": "markdown",
      "metadata": {
        "id": "7dsJBZyluTVw"
      },
      "source": [
        "6. Istnieje alternatywna wersja filtra kombinowanego, która zamiast pierwiastka z sumy kwadratów wykorzystuje sumę modułów (prostsze obliczenia).\n",
        "Zaimplementuj tę wersję."
      ]
    },
    {
      "cell_type": "code",
      "execution_count": null,
      "metadata": {
        "colab": {
          "base_uri": "https://localhost:8080/",
          "height": 287
        },
        "id": "fJMIOBGnuTVw",
        "outputId": "6488e65b-7784-4a56-b0b2-e81d2a5165b3",
        "scrolled": true
      },
      "outputs": [],
      "source": [
        "kw_combined_2 = np.sqrt(np.abs(kw_filtered_1) + np.abs(kw_filtered_2))\n",
        "\n",
        "plt.figure(figsize=(10, 7))\n",
        "plt.subplot(131), plt.imshow(kw_int, cmap='gray'), plt.title('Original'), plt.axis('off')\n",
        "plt.subplot(132), plt.imshow(kw_combined, cmap='gray'), plt.title('Combined Filter'), plt.axis('off')\n",
        "plt.subplot(133), plt.imshow(kw_combined_2, cmap='gray'), plt.title('Combined Filter Abs'), plt.axis('off')\n",
        "plt.show()"
      ]
    },
    {
      "cell_type": "markdown",
      "metadata": {
        "id": "Q-3dRwiiuTVw"
      },
      "source": [
        "7. Wczytaj plik _jet.png_ (zamiast _kw.png_).\n",
        "Sprawdź działanie obu wariantów filtracji kombinowanej."
      ]
    },
    {
      "cell_type": "code",
      "execution_count": null,
      "metadata": {
        "colab": {
          "base_uri": "https://localhost:8080/",
          "height": 324
        },
        "id": "TAm2toQRuTVw",
        "outputId": "2a426580-2330-467e-fb94-5adaa7e86e32",
        "pycharm": {
          "name": "#%%\n"
        }
      },
      "outputs": [],
      "source": [
        "jet = cv2.imread('jet.png', cv2.IMREAD_GRAYSCALE)\n",
        "jet_int = jet.astype(np.int16)\n",
        "\n",
        "jet_filtered_1 = cv2.filter2D(jet_int, -1, S1)\n",
        "jet_filtered_2 = cv2.filter2D(jet_int, -1, S2)\n",
        "\n",
        "jet_combined = np.sqrt((jet_filtered_1 ** 2) + (jet_filtered_2 ** 2))\n",
        "jet_combined_abs = np.abs(jet_filtered_1) + np.abs(jet_filtered_2)\n",
        "\n",
        "plt.figure(figsize=(10, 7))\n",
        "plt.subplot(131), plt.imshow(jet_int, cmap='gray'), plt.title('Original'), plt.axis('off')\n",
        "plt.subplot(132), plt.imshow(jet_combined, cmap='gray'), plt.title('Combined Filter'), plt.axis('off')\n",
        "plt.subplot(133), plt.imshow(jet_combined_abs, cmap='gray'), plt.title('Combined Filter Abs'), plt.axis('off')\n",
        "plt.show()"
      ]
    }
  ],
  "metadata": {
    "celltoolbar": "Raw Cell Format",
    "colab": {
      "provenance": []
    },
    "kernelspec": {
      "display_name": "Python 3",
      "language": "python",
      "name": "python3"
    },
    "language_info": {
      "codemirror_mode": {
        "name": "ipython",
        "version": 3
      },
      "file_extension": ".py",
      "mimetype": "text/x-python",
      "name": "python",
      "nbconvert_exporter": "python",
      "pygments_lexer": "ipython3",
      "version": "3.10.13"
    }
  },
  "nbformat": 4,
  "nbformat_minor": 0
}
